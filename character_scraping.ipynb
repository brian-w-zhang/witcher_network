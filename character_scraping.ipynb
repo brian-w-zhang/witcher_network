{
 "cells": [
  {
   "cell_type": "markdown",
   "id": "159dd8e3-dd20-4b55-8aad-781d5aa7ed3f",
   "metadata": {},
   "source": [
    "# Imports"
   ]
  },
  {
   "cell_type": "code",
   "execution_count": null,
   "id": "e7e5d19f-9883-4fa4-8cf0-39ca63fdc1c2",
   "metadata": {
    "scrolled": true
   },
   "outputs": [],
   "source": [
    "import pandas as pd\n",
    "import time\n",
    "from selenium import webdriver\n",
    "from selenium.webdriver.common.keys import Keys\n",
    "from webdriver_manager.chrome import ChromeDriverManager\n",
    "import matplotlib.pyplot as plt\n",
    "from selenium.webdriver.common.by import By"
   ]
  },
  {
   "cell_type": "markdown",
   "id": "cd0289bc-df8e-40f4-b246-7ba0a916e454",
   "metadata": {},
   "source": [
    "# Create Driver"
   ]
  },
  {
   "cell_type": "code",
   "execution_count": null,
   "id": "d73f46fb-e224-456c-b255-0165480813fa",
   "metadata": {},
   "outputs": [],
   "source": [
    "driver = webdriver.Chrome()\n",
    "page_url = \"https://witcher.fandom.com/wiki/Category:Characters_in_the_stories\"\n",
    "driver.get(page_url)"
   ]
  },
  {
   "cell_type": "markdown",
   "id": "8d7bd081-76c3-404b-a869-b07a96b3f971",
   "metadata": {},
   "source": [
    "# Find books"
   ]
  },
  {
   "cell_type": "code",
   "execution_count": null,
   "id": "25b8ea03-75d0-477a-9c8c-b4cd2f6d16b8",
   "metadata": {},
   "outputs": [],
   "source": [
    "book_categories = driver.find_elements(By.CLASS_NAME, 'category-page__member-link')\n",
    "book_categories"
   ]
  },
  {
   "cell_type": "code",
   "execution_count": null,
   "id": "336e436d-ac8c-4535-bb99-2bc7ae25c4a4",
   "metadata": {},
   "outputs": [],
   "source": []
  },
  {
   "cell_type": "code",
   "execution_count": null,
   "id": "83cd8d06-8d01-411b-877e-4baa784e2320",
   "metadata": {},
   "outputs": [],
   "source": [
    "book_categories[0].text"
   ]
  },
  {
   "cell_type": "code",
   "execution_count": null,
   "id": "1c8c47e5-d9db-41ad-ab73-9f0f70daaf20",
   "metadata": {},
   "outputs": [],
   "source": [
    "book_categories[0].get_attribute('href')"
   ]
  },
  {
   "cell_type": "code",
   "execution_count": null,
   "id": "abe72864-6539-4410-abee-dfa59cffcfc6",
   "metadata": {
    "scrolled": true
   },
   "outputs": [],
   "source": [
    "driver.get(book_categories[0].get_attribute('href'))"
   ]
  },
  {
   "cell_type": "code",
   "execution_count": null,
   "id": "948c1a85-e9c9-4e7a-83f7-5a826e537987",
   "metadata": {},
   "outputs": [],
   "source": [
    "character_elem = driver.find_elements(By.CSS_SELECTOR, 'a[style*=\"font-size: 14px\"]')\n",
    "character_elem"
   ]
  },
  {
   "cell_type": "markdown",
   "id": "20b04037-72a9-4e74-b849-963bf1e3f713",
   "metadata": {},
   "source": [
    "# Full Code"
   ]
  },
  {
   "cell_type": "code",
   "execution_count": null,
   "id": "cc9f42a4-2dbd-4b34-81cb-60807181922d",
   "metadata": {},
   "outputs": [],
   "source": [
    "import pandas as pd\n",
    "import time\n",
    "from selenium import webdriver\n",
    "from webdriver_manager.chrome import ChromeDriverManager\n",
    "import matplotlib.pyplot as plt\n",
    "from selenium.webdriver.common.by import By\n",
    "\n",
    "# Create driver\n",
    "driver = webdriver.Chrome()\n",
    "\n",
    "# Go to the characters in books section\n",
    "page_url = \"https://witcher.fandom.com/wiki/Category:Characters_in_the_stories\"\n",
    "driver.get(page_url)\n",
    "\n",
    "# Find books\n",
    "book_categories = driver.find_elements(By.CLASS_NAME, 'category-page__member-link')\n",
    "\n",
    "books = []\n",
    "for category in book_categories:\n",
    "    book_url = category.get_attribute('href')\n",
    "    book_name = category.text\n",
    "    books.append({'book_name': book_name, \"url\": book_url})\n",
    "\n"
   ]
  },
  {
   "cell_type": "code",
   "execution_count": null,
   "id": "117ae014-4e79-4c66-9016-97f1f5f6ea55",
   "metadata": {},
   "outputs": [],
   "source": [
    "character_list = []\n",
    "\n",
    "for book in books:\n",
    "    # go to book page\n",
    "    driver.get(book['url'])\n",
    "    character_elems = driver.find_elements(By.CLASS_NAME, 'category-page__member-link')\n",
    "\n",
    "    for elem in character_elems:\n",
    "        character_list.append({'book': book['book_name'], 'character': elem.text})"
   ]
  },
  {
   "cell_type": "code",
   "execution_count": null,
   "id": "e0d06ded-c279-4504-a1b2-f2c0e6c9e01a",
   "metadata": {},
   "outputs": [],
   "source": [
    "pd.DataFrame(character_list)"
   ]
  },
  {
   "cell_type": "code",
   "execution_count": null,
   "id": "36a5af89-5729-48da-863e-5f58bf39ee09",
   "metadata": {},
   "outputs": [],
   "source": [
    "character_df = pd.DataFrame(character_list)\n",
    "\n",
    "character_df['book'].value_counts().plot(kind=\"bar\")\n",
    "plt.show()"
   ]
  },
  {
   "cell_type": "code",
   "execution_count": null,
   "id": "d1ff8794-690b-4815-93cf-4b6342f617f3",
   "metadata": {},
   "outputs": [],
   "source": []
  }
 ],
 "metadata": {
  "kernelspec": {
   "display_name": "Python 3 (ipykernel)",
   "language": "python",
   "name": "python3"
  },
  "language_info": {
   "codemirror_mode": {
    "name": "ipython",
    "version": 3
   },
   "file_extension": ".py",
   "mimetype": "text/x-python",
   "name": "python",
   "nbconvert_exporter": "python",
   "pygments_lexer": "ipython3",
   "version": "3.10.1"
  }
 },
 "nbformat": 4,
 "nbformat_minor": 5
}
